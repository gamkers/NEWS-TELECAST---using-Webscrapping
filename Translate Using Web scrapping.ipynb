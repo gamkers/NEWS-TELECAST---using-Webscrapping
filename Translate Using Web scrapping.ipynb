{
 "cells": [
  {
   "cell_type": "code",
   "execution_count": 3,
   "id": "f76bf76d",
   "metadata": {},
   "outputs": [],
   "source": [
    "from bs4 import BeautifulSoup\n",
    "import requests\n",
    "def webscrap_translate(command):\n",
    "    search = command\n",
    "    url = f\"https://www.google.com/search?q={search}\"\n",
    "    r = requests.get(url)\n",
    "    data = BeautifulSoup(r.text, \"html.parser\")\n",
    "    temp = data.find('div', class_=\"PME8Xe MUxGbd gbj1yb WZ8Tjf\", id=\"lrtl-transliteration-text\")\n",
    "    print(temp.text)\n",
    "   "
   ]
  },
  {
   "cell_type": "code",
   "execution_count": 4,
   "id": "4f295668",
   "metadata": {},
   "outputs": [
    {
     "name": "stdout",
     "output_type": "stream",
     "text": [
      "aap kaise hain\n"
     ]
    }
   ],
   "source": [
    "webscrap_translate(\"what is how are you in hindi\")"
   ]
  },
  {
   "cell_type": "code",
   "execution_count": null,
   "id": "a5c07543",
   "metadata": {},
   "outputs": [],
   "source": []
  }
 ],
 "metadata": {
  "kernelspec": {
   "display_name": "Python 3",
   "language": "python",
   "name": "python3"
  },
  "language_info": {
   "codemirror_mode": {
    "name": "ipython",
    "version": 3
   },
   "file_extension": ".py",
   "mimetype": "text/x-python",
   "name": "python",
   "nbconvert_exporter": "python",
   "pygments_lexer": "ipython3",
   "version": "3.8.8"
  }
 },
 "nbformat": 4,
 "nbformat_minor": 5
}
